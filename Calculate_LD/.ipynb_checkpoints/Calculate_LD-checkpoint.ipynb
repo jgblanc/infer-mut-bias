{
 "cells": [
  {
   "cell_type": "markdown",
   "metadata": {},
   "source": [
    "## Calculate LD\n",
    "\n",
    "1) Simulate using MSPrime   \n",
    "2) Get Genotype Matrix   \n",
    "3) Calculate correlation matrix   \n",
    "4) Get list of frequency and pairwise values  \n",
    "5) Bin frequencies and plot"
   ]
  },
  {
   "cell_type": "code",
   "execution_count": 2,
   "metadata": {},
   "outputs": [],
   "source": [
    "import msprime\n",
    "import numpy as np\n",
    "import matplotlib.pyplot as pl\n",
    "np.random.seed(12)"
   ]
  },
  {
   "cell_type": "markdown",
   "metadata": {},
   "source": [
    "#### 1. MSPrime Simulation"
   ]
  },
  {
   "cell_type": "code",
   "execution_count": 2,
   "metadata": {},
   "outputs": [],
   "source": [
    "def msprime_simulate(sample_size, Ne, length, recombination_rate, mutation_rate, random_seed): \n",
    "    tree_sequence = msprime.simulate(\n",
    "     sample_size=sample_size, Ne=Ne, length=length, recombination_rate=recombination_rate,\n",
    "     mutation_rate=mutation_rate, random_seed=random_seed)\n",
    "    return tree_sequence"
   ]
  },
  {
   "cell_type": "code",
   "execution_count": 110,
   "metadata": {},
   "outputs": [],
   "source": [
    "ts = msprime_simulate(20, 1e4, 5e3, 0, 2e-8, 10)"
   ]
  },
  {
   "cell_type": "markdown",
   "metadata": {},
   "source": [
    "#### 2. Get Genotype Matrix "
   ]
  },
  {
   "cell_type": "code",
   "execution_count": 111,
   "metadata": {},
   "outputs": [
    {
     "name": "stdout",
     "output_type": "stream",
     "text": [
      "[[0 0 1 0 0 0 0 0 0 1 0 0 0 0 0 0 0 0 0 0]\n",
      " [0 0 1 0 0 0 0 0 0 0 0 0 0 0 0 0 0 0 0 0]\n",
      " [0 0 0 0 0 0 1 0 0 0 0 1 1 0 1 0 0 1 0 1]\n",
      " [1 0 0 0 1 1 0 0 1 0 0 0 0 1 0 1 0 0 1 0]\n",
      " [0 0 0 0 0 0 0 1 0 0 0 0 0 0 0 0 1 0 0 0]\n",
      " [1 1 0 1 1 1 1 1 1 0 1 1 1 1 1 1 1 1 1 1]\n",
      " [1 1 0 1 1 1 1 1 1 0 1 1 1 1 1 1 1 1 1 1]\n",
      " [0 1 0 0 0 0 0 0 0 0 0 0 0 0 0 0 0 0 0 0]\n",
      " [0 1 0 0 0 0 0 0 0 0 0 0 0 0 0 0 0 0 0 0]\n",
      " [0 0 1 0 0 0 0 0 0 0 0 0 0 0 0 0 0 0 0 0]\n",
      " [0 0 0 0 0 0 0 1 0 0 0 0 0 0 0 0 1 0 0 0]]\n"
     ]
    },
    {
     "data": {
      "text/plain": [
       "11"
      ]
     },
     "execution_count": 111,
     "metadata": {},
     "output_type": "execute_result"
    }
   ],
   "source": [
    "G = ts.genotype_matrix()\n",
    "print(G) # Rows = variants, cols = haploids \n",
    "\n",
    "# Num variants\n",
    "np.shape(G)[0]"
   ]
  },
  {
   "cell_type": "code",
   "execution_count": 112,
   "metadata": {},
   "outputs": [
    {
     "data": {
      "text/plain": [
       "array([[0., 0., 0., 1., 0., 2., 2., 1., 1., 0., 0.],\n",
       "       [1., 0., 0., 1., 0., 1., 1., 0., 0., 0., 0.],\n",
       "       [0., 0., 2., 0., 0., 2., 2., 0., 0., 0., 0.],\n",
       "       [0., 0., 0., 0., 2., 2., 2., 0., 0., 0., 2.],\n",
       "       [1., 1., 0., 0., 0., 1., 1., 0., 0., 1., 0.],\n",
       "       [0., 0., 1., 1., 0., 2., 2., 0., 0., 0., 0.],\n",
       "       [0., 0., 1., 1., 0., 2., 2., 0., 0., 0., 0.],\n",
       "       [0., 0., 1., 1., 0., 2., 2., 0., 0., 0., 0.],\n",
       "       [0., 0., 0., 1., 0., 2., 2., 0., 0., 0., 0.],\n",
       "       [0., 0., 1., 1., 0., 2., 2., 0., 0., 0., 0.]])"
      ]
     },
     "execution_count": 112,
     "metadata": {},
     "output_type": "execute_result"
    }
   ],
   "source": [
    "def get_diploids(G):\n",
    "    Geno = np.ones(np.shape(G)[0])\n",
    "    ids = np.arange(np.shape(G)[1])\n",
    "    while len(ids) >= 2:\n",
    "        random_index = np.random.choice(range(len(ids)), 2, replace=False)\n",
    "        col1 = G[:,ids[random_index[0]]]\n",
    "        col2 = G[:,ids[random_index[1]]]\n",
    "        ids = np.delete(ids, random_index)\n",
    "        geno = col1 + col2\n",
    "        Geno = np.vstack((Geno, geno))\n",
    "    return(Geno[1:,:])\n",
    "    \n",
    "Genotype = get_diploids(G)\n",
    "Genotype # Cols = variants, rows = diploids individuals"
   ]
  },
  {
   "cell_type": "markdown",
   "metadata": {},
   "source": [
    "#### 3. Calculate Correlation Matrix "
   ]
  },
  {
   "cell_type": "code",
   "execution_count": 113,
   "metadata": {},
   "outputs": [
    {
     "name": "stdout",
     "output_type": "stream",
     "text": [
      "[[ 1.          0.66666667 -0.45226702 -0.21821789 -0.16666667 -1.\n",
      "  -1.         -0.16666667 -0.16666667  0.66666667 -0.16666667]\n",
      " [ 0.66666667  1.         -0.30151134 -0.50917508 -0.11111111 -0.66666667\n",
      "  -0.66666667 -0.11111111 -0.11111111  1.         -0.11111111]\n",
      " [-0.45226702 -0.30151134  1.         -0.06579517 -0.30151134  0.45226702\n",
      "   0.45226702 -0.30151134 -0.30151134 -0.30151134 -0.30151134]\n",
      " [-0.21821789 -0.50917508 -0.06579517  1.         -0.50917508  0.21821789\n",
      "   0.21821789  0.21821789  0.21821789 -0.50917508 -0.50917508]\n",
      " [-0.16666667 -0.11111111 -0.30151134 -0.50917508  1.          0.16666667\n",
      "   0.16666667 -0.11111111 -0.11111111 -0.11111111  1.        ]\n",
      " [-1.         -0.66666667  0.45226702  0.21821789  0.16666667  1.\n",
      "   1.          0.16666667  0.16666667 -0.66666667  0.16666667]\n",
      " [-1.         -0.66666667  0.45226702  0.21821789  0.16666667  1.\n",
      "   1.          0.16666667  0.16666667 -0.66666667  0.16666667]\n",
      " [-0.16666667 -0.11111111 -0.30151134  0.21821789 -0.11111111  0.16666667\n",
      "   0.16666667  1.          1.         -0.11111111 -0.11111111]\n",
      " [-0.16666667 -0.11111111 -0.30151134  0.21821789 -0.11111111  0.16666667\n",
      "   0.16666667  1.          1.         -0.11111111 -0.11111111]\n",
      " [ 0.66666667  1.         -0.30151134 -0.50917508 -0.11111111 -0.66666667\n",
      "  -0.66666667 -0.11111111 -0.11111111  1.         -0.11111111]\n",
      " [-0.16666667 -0.11111111 -0.30151134 -0.50917508  1.          0.16666667\n",
      "   0.16666667 -0.11111111 -0.11111111 -0.11111111  1.        ]]\n"
     ]
    },
    {
     "data": {
      "text/plain": [
       "(11, 11)"
      ]
     },
     "execution_count": 113,
     "metadata": {},
     "output_type": "execute_result"
    }
   ],
   "source": [
    "cc = np.corrcoef(np.transpose(Genotype))\n",
    "print(cc)\n",
    "np.shape(cc)"
   ]
  },
  {
   "cell_type": "markdown",
   "metadata": {},
   "source": [
    "#### 4. Get list of frequency and pairwise values "
   ]
  },
  {
   "cell_type": "code",
   "execution_count": 114,
   "metadata": {},
   "outputs": [
    {
     "data": {
      "text/plain": [
       "array([[ 0.1       ,  1.        ,  0.66666667, -0.45226702, -0.21821789,\n",
       "        -0.16666667, -1.        , -1.        , -0.16666667, -0.16666667,\n",
       "         0.66666667, -0.16666667],\n",
       "       [ 0.05      ,  0.66666667,  1.        , -0.30151134, -0.50917508,\n",
       "        -0.11111111, -0.66666667, -0.66666667, -0.11111111, -0.11111111,\n",
       "         1.        , -0.11111111],\n",
       "       [ 0.3       , -0.45226702, -0.30151134,  1.        , -0.06579517,\n",
       "        -0.30151134,  0.45226702,  0.45226702, -0.30151134, -0.30151134,\n",
       "        -0.30151134, -0.30151134],\n",
       "       [ 0.35      , -0.21821789, -0.50917508, -0.06579517,  1.        ,\n",
       "        -0.50917508,  0.21821789,  0.21821789,  0.21821789,  0.21821789,\n",
       "        -0.50917508, -0.50917508],\n",
       "       [ 0.1       , -0.16666667, -0.11111111, -0.30151134, -0.50917508,\n",
       "         1.        ,  0.16666667,  0.16666667, -0.11111111, -0.11111111,\n",
       "        -0.11111111,  1.        ],\n",
       "       [ 0.9       , -1.        , -0.66666667,  0.45226702,  0.21821789,\n",
       "         0.16666667,  1.        ,  1.        ,  0.16666667,  0.16666667,\n",
       "        -0.66666667,  0.16666667],\n",
       "       [ 0.9       , -1.        , -0.66666667,  0.45226702,  0.21821789,\n",
       "         0.16666667,  1.        ,  1.        ,  0.16666667,  0.16666667,\n",
       "        -0.66666667,  0.16666667],\n",
       "       [ 0.05      , -0.16666667, -0.11111111, -0.30151134,  0.21821789,\n",
       "        -0.11111111,  0.16666667,  0.16666667,  1.        ,  1.        ,\n",
       "        -0.11111111, -0.11111111],\n",
       "       [ 0.05      , -0.16666667, -0.11111111, -0.30151134,  0.21821789,\n",
       "        -0.11111111,  0.16666667,  0.16666667,  1.        ,  1.        ,\n",
       "        -0.11111111, -0.11111111],\n",
       "       [ 0.05      ,  0.66666667,  1.        , -0.30151134, -0.50917508,\n",
       "        -0.11111111, -0.66666667, -0.66666667, -0.11111111, -0.11111111,\n",
       "         1.        , -0.11111111],\n",
       "       [ 0.1       , -0.16666667, -0.11111111, -0.30151134, -0.50917508,\n",
       "         1.        ,  0.16666667,  0.16666667, -0.11111111, -0.11111111,\n",
       "        -0.11111111,  1.        ]])"
      ]
     },
     "execution_count": 114,
     "metadata": {},
     "output_type": "execute_result"
    },
    {
     "data": {
      "image/png": "[encoded data removed]",
      "text/plain": [
       "<Figure size 432x288 with 1 Axes>"
      ]
     },
     "metadata": {
      "needs_background": "light"
     },
     "output_type": "display_data"
    }
   ],
   "source": [
    "def calc_freq(G): \n",
    "    return np.sum(G, axis=1)/np.shape(G)[1]\n",
    "\n",
    "\n",
    "freq = calc_freq(G)\n",
    "pl.hist(freq)\n",
    "\n",
    "dat = np.ones((len(freq), np.shape(G)[0]+1))\n",
    "for i in range(len(freq)):\n",
    "    dat[i,:] = np.append(np.array(freq[i]), cc[i])\n",
    "    \n",
    "dat"
   ]
  },
  {
   "cell_type": "markdown",
   "metadata": {},
   "source": [
    "#### 5. Bin frequencies and plot"
   ]
  },
  {
   "cell_type": "code",
   "execution_count": 115,
   "metadata": {},
   "outputs": [],
   "source": [
    "bins = np.linspace(0,1, 11)\n",
    "out = []\n",
    "for j in range(len(bins)-1):\n",
    "    r = np.array(1)\n",
    "    for i in range(np.shape(dat)[0]):\n",
    "        f = dat[i][0]\n",
    "        if (f >= bins[j]) & (f < bins[j+1]):\n",
    "            r = np.append(r,dat[i][1:])\n",
    "    if r.size > 1:\n",
    "        r = np.append(bins[j],r[1::])\n",
    "        out.append(r)"
   ]
  },
  {
   "cell_type": "code",
   "execution_count": 122,
   "metadata": {
    "scrolled": true
   },
   "outputs": [
    {
     "name": "stdout",
     "output_type": "stream",
     "text": [
      "0.0\n"
     ]
    },
    {
     "data": {
      "text/plain": [
       "(array([ 6.,  0.,  4., 18.,  4.,  2.,  0.,  0.,  2.,  8.]),\n",
       " array([-0.66666667, -0.5       , -0.33333333, -0.16666667,  0.        ,\n",
       "         0.16666667,  0.33333333,  0.5       ,  0.66666667,  0.83333333,\n",
       "         1.        ]),\n",
       " <a list of 10 Patch objects>)"
      ]
     },
     "execution_count": 122,
     "metadata": {},
     "output_type": "execute_result"
    },
    {
     "data": {
      "image/png": "[encoded data removed]",
      "text/plain": [
       "<Figure size 432x288 with 1 Axes>"
      ]
     },
     "metadata": {
      "needs_background": "light"
     },
     "output_type": "display_data"
    }
   ],
   "source": [
    "x = out[0]\n",
    "print(x[0])\n",
    "pl.hist(x[1::]) # Bin 0-0.1"
   ]
  },
  {
   "cell_type": "code",
   "execution_count": 123,
   "metadata": {},
   "outputs": [
    {
     "name": "stdout",
     "output_type": "stream",
     "text": [
      "0.1\n"
     ]
    },
    {
     "data": {
      "text/plain": [
       "(array([ 2.,  0.,  3.,  3., 14.,  4.,  0.,  0.,  2.,  5.]),\n",
       " array([-1. , -0.8, -0.6, -0.4, -0.2,  0. ,  0.2,  0.4,  0.6,  0.8,  1. ]),\n",
       " <a list of 10 Patch objects>)"
      ]
     },
     "execution_count": 123,
     "metadata": {},
     "output_type": "execute_result"
    },
    {
     "data": {
      "image/png": "[encoded data removed]",
      "text/plain": [
       "<Figure size 432x288 with 1 Axes>"
      ]
     },
     "metadata": {
      "needs_background": "light"
     },
     "output_type": "display_data"
    }
   ],
   "source": [
    "x = out[1]\n",
    "print(x[0])\n",
    "pl.hist(x[1::]) # Bin 0.1 - 0.2"
   ]
  },
  {
   "cell_type": "code",
   "execution_count": 125,
   "metadata": {},
   "outputs": [
    {
     "name": "stdout",
     "output_type": "stream",
     "text": [
      "0.2\n"
     ]
    },
    {
     "data": {
      "text/plain": [
       "(array([1., 6., 1., 0., 0., 0., 2., 0., 0., 1.]),\n",
       " array([-0.45226702, -0.30704032, -0.16181361, -0.01658691,  0.12863979,\n",
       "         0.27386649,  0.41909319,  0.56431989,  0.7095466 ,  0.8547733 ,\n",
       "         1.        ]),\n",
       " <a list of 10 Patch objects>)"
      ]
     },
     "execution_count": 125,
     "metadata": {},
     "output_type": "execute_result"
    },
    {
     "data": {
      "image/png": "[encoded data removed]",
      "text/plain": [
       "<Figure size 432x288 with 1 Axes>"
      ]
     },
     "metadata": {
      "needs_background": "light"
     },
     "output_type": "display_data"
    }
   ],
   "source": [
    "x = out[2]\n",
    "print(x[0])\n",
    "pl.hist(x[1::]) # Bin 0.2-0.3 "
   ]
  },
  {
   "cell_type": "code",
   "execution_count": 126,
   "metadata": {},
   "outputs": [
    {
     "name": "stdout",
     "output_type": "stream",
     "text": [
      "0.30000000000000004\n"
     ]
    },
    {
     "data": {
      "text/plain": [
       "(array([4., 1., 1., 0., 4., 0., 0., 0., 0., 1.]),\n",
       " array([-0.50917508, -0.35825757, -0.20734006, -0.05642255,  0.09449495,\n",
       "         0.24541246,  0.39632997,  0.54724748,  0.69816498,  0.84908249,\n",
       "         1.        ]),\n",
       " <a list of 10 Patch objects>)"
      ]
     },
     "execution_count": 126,
     "metadata": {},
     "output_type": "execute_result"
    },
    {
     "data": {
      "image/png": "[encoded data removed]",
      "text/plain": [
       "<Figure size 432x288 with 1 Axes>"
      ]
     },
     "metadata": {
      "needs_background": "light"
     },
     "output_type": "display_data"
    }
   ],
   "source": [
    "x = out[3]\n",
    "print(x[0])\n",
    "pl.hist(x[1::]) # Bin 0.3-0.4 "
   ]
  },
  {
   "cell_type": "code",
   "execution_count": 127,
   "metadata": {},
   "outputs": [
    {
     "name": "stdout",
     "output_type": "stream",
     "text": [
      "0.9\n"
     ]
    },
    {
     "data": {
      "text/plain": [
       "(array([2., 4., 0., 0., 0., 8., 2., 2., 0., 4.]),\n",
       " array([-1. , -0.8, -0.6, -0.4, -0.2,  0. ,  0.2,  0.4,  0.6,  0.8,  1. ]),\n",
       " <a list of 10 Patch objects>)"
      ]
     },
     "execution_count": 127,
     "metadata": {},
     "output_type": "execute_result"
    },
    {
     "data": {
      "image/png": "[encoded data removed]",
      "text/plain": [
       "<Figure size 432x288 with 1 Axes>"
      ]
     },
     "metadata": {
      "needs_background": "light"
     },
     "output_type": "display_data"
    }
   ],
   "source": [
    "x = out[4]\n",
    "print(x[0])\n",
    "pl.hist(x[1::]) # Bin 0.9-1 "
   ]
  },
  {
   "cell_type": "code",
   "execution_count": 31,
   "metadata": {},
   "outputs": [
    {
     "data": {
      "image/png": "[encoded data removed]",
      "text/plain": [
       "<Figure size 432x288 with 1 Axes>"
      ]
     },
     "metadata": {
      "needs_background": "light"
     },
     "output_type": "display_data"
    },
    {
     "data": {
      "image/png": "[encoded data removed]",
      "text/plain": [
       "<Figure size 432x288 with 1 Axes>"
      ]
     },
     "metadata": {
      "needs_background": "light"
     },
     "output_type": "display_data"
    }
   ],
   "source": []
  },
  {
   "cell_type": "code",
   "execution_count": 24,
   "metadata": {},
   "outputs": [
    {
     "name": "stdout",
     "output_type": "stream",
     "text": [
      "Mutation @ position 246.84 over node 9820\n",
      "Mutation @ position 870.84 over node 9641\n",
      "Mutation @ position 1544.48 over node 9522\n",
      "Mutation @ position 5452.04 over node 9964\n",
      "Mutation @ position 5877.48 over node 9997\n",
      "Mutation @ position 7138.83 over node 9973\n",
      "Mutation @ position 7326.35 over node 9460\n",
      "Mutation @ position 7623.41 over node 9891\n"
     ]
    }
   ],
   "source": [
    "ts = msprime.simulate(sample_size=5000, Ne=1e4, length=1e4)\n",
    "ts_mut = msprime.mutate(ts, rate=2e-9, random_seed=12, start_time=100,end_time=None)\n",
    "tree = ts_mut.first()\n",
    "for site in tree.sites():\n",
    "     for mutation in site.mutations:\n",
    "         print(\"Mutation @ position {:.2f} over node {}\".format(\n",
    "            site.position, mutation.node))"
   ]
  },
  {
   "cell_type": "code",
   "execution_count": 6,
   "metadata": {},
   "outputs": [],
   "source": [
    "%qtconsole"
   ]
  }
 ],
 "metadata": {
  "kernelspec": {
   "display_name": "Python 3",
   "language": "python",
   "name": "python3"
  },
  "language_info": {
   "codemirror_mode": {
    "name": "ipython",
    "version": 3
   },
   "file_extension": ".py",
   "mimetype": "text/x-python",
   "name": "python",
   "nbconvert_exporter": "python",
   "pygments_lexer": "ipython3",
   "version": "3.7.3"
  }
 },
 "nbformat": 4,
 "nbformat_minor": 2
}
