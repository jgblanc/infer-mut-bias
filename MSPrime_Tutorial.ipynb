{
 "cells": [
  {
   "cell_type": "markdown",
   "metadata": {},
   "source": [
    "## MS Prime Tutorial "
   ]
  },
  {
   "cell_type": "code",
   "execution_count": 1,
   "metadata": {},
   "outputs": [],
   "source": [
    "import msprime"
   ]
  },
  {
   "cell_type": "markdown",
   "metadata": {},
   "source": [
    "### Simulating Trees "
   ]
  },
  {
   "cell_type": "code",
   "execution_count": 2,
   "metadata": {},
   "outputs": [
    {
     "name": "stdout",
     "output_type": "stream",
     "text": [
      "     10      \n",
      "  ┏━━┻━━┓    \n",
      "  ┃     9    \n",
      "  ┃   ┏━┻┓   \n",
      "  8   ┃  ┃   \n",
      "┏━┻┓  ┃  ┃   \n",
      "┃  7  ┃  ┃   \n",
      "┃ ┏┻┓ ┃  ┃   \n",
      "┃ ┃ ┃ ┃  6   \n",
      "┃ ┃ ┃ ┃ ┏┻┓  \n",
      "5 0 1 2 3 4  \n",
      "\n"
     ]
    }
   ],
   "source": [
    "tree_sequence = msprime.simulate(sample_size=6, Ne=1000)\n",
    "tree = tree_sequence.first()\n",
    "print(tree.draw(format=\"unicode\"))"
   ]
  },
  {
   "cell_type": "code",
   "execution_count": 8,
   "metadata": {},
   "outputs": [
    {
     "ename": "NameError",
     "evalue": "name 'tskit' is not defined",
     "output_type": "error",
     "traceback": [
      "\u001b[0;31m---------------------------------------------------------------------------\u001b[0m",
      "\u001b[0;31mNameError\u001b[0m                                 Traceback (most recent call last)",
      "\u001b[0;32m<ipython-input-8-d598978750ec>\u001b[0m in \u001b[0;36m<module>\u001b[0;34m\u001b[0m\n\u001b[1;32m      1\u001b[0m \u001b[0mu\u001b[0m \u001b[0;34m=\u001b[0m \u001b[0;36m2\u001b[0m\u001b[0;34m\u001b[0m\u001b[0;34m\u001b[0m\u001b[0m\n\u001b[0;32m----> 2\u001b[0;31m \u001b[0;32mwhile\u001b[0m \u001b[0mu\u001b[0m \u001b[0;34m!=\u001b[0m \u001b[0mtskit\u001b[0m\u001b[0;34m.\u001b[0m\u001b[0mNULL\u001b[0m\u001b[0;34m:\u001b[0m\u001b[0;34m\u001b[0m\u001b[0;34m\u001b[0m\u001b[0m\n\u001b[0m\u001b[1;32m      3\u001b[0m     \u001b[0mprint\u001b[0m\u001b[0;34m(\u001b[0m\u001b[0;34m\"node {}: time = {}\"\u001b[0m\u001b[0;34m.\u001b[0m\u001b[0mformat\u001b[0m\u001b[0;34m(\u001b[0m\u001b[0mu\u001b[0m\u001b[0;34m,\u001b[0m \u001b[0mtree\u001b[0m\u001b[0;34m.\u001b[0m\u001b[0mtime\u001b[0m\u001b[0;34m(\u001b[0m\u001b[0mu\u001b[0m\u001b[0;34m)\u001b[0m\u001b[0;34m)\u001b[0m\u001b[0;34m)\u001b[0m\u001b[0;34m\u001b[0m\u001b[0;34m\u001b[0m\u001b[0m\n\u001b[1;32m      4\u001b[0m     \u001b[0mu\u001b[0m \u001b[0;34m=\u001b[0m \u001b[0mtree\u001b[0m\u001b[0;34m.\u001b[0m\u001b[0mparent\u001b[0m\u001b[0;34m(\u001b[0m\u001b[0mu\u001b[0m\u001b[0;34m)\u001b[0m\u001b[0;34m\u001b[0m\u001b[0;34m\u001b[0m\u001b[0m\n",
      "\u001b[0;31mNameError\u001b[0m: name 'tskit' is not defined"
     ]
    }
   ],
   "source": [
    "u = 2\n",
    "while u != tskit.NULL:\n",
    "    print(\"node {}: time = {}\".format(u, tree.time(u)))\n",
    "    u = tree.parent(u)"
   ]
  },
  {
   "cell_type": "code",
   "execution_count": 5,
   "metadata": {},
   "outputs": [
    {
     "name": "stdout",
     "output_type": "stream",
     "text": [
      "652.3823855170231\n",
      "7419.5111374887965\n"
     ]
    }
   ],
   "source": [
    "print(tree.branch_length(6))\n",
    "print(tree.total_branch_length)"
   ]
  },
  {
   "cell_type": "markdown",
   "metadata": {},
   "source": [
    "### Recombination"
   ]
  },
  {
   "cell_type": "code",
   "execution_count": 7,
   "metadata": {},
   "outputs": [
    {
     "name": "stdout",
     "output_type": "stream",
     "text": [
      "--------------------\n",
      "tree 0: interval = (0.0, 7687.067996637678)\n",
      "     12      \n",
      "  ┏━━┻━━┓    \n",
      "  ┃     11   \n",
      "  ┃   ┏━┻┓   \n",
      "  ┃   ┃  9   \n",
      "  ┃   ┃ ┏┻┓  \n",
      "  7   ┃ ┃ ┃  \n",
      "┏━┻┓  ┃ ┃ ┃  \n",
      "┃  6  ┃ ┃ ┃  \n",
      "┃ ┏┻┓ ┃ ┃ ┃  \n",
      "4 0 5 1 2 3  \n",
      "\n",
      "--------------------\n",
      "tree 1: interval = (7687.067996637678, 9729.546427198115)\n",
      "     12      \n",
      "  ┏━━┻━━┓    \n",
      "  ┃     10   \n",
      "  ┃   ┏━┻┓   \n",
      "  ┃   ┃  9   \n",
      "  ┃   ┃ ┏┻┓  \n",
      "  7   ┃ ┃ ┃  \n",
      "┏━┻┓  ┃ ┃ ┃  \n",
      "┃  6  ┃ ┃ ┃  \n",
      "┃ ┏┻┓ ┃ ┃ ┃  \n",
      "4 0 5 1 2 3  \n",
      "\n",
      "--------------------\n",
      "tree 2: interval = (9729.546427198115, 10000.0)\n",
      "     12      \n",
      "  ┏━━┻━━┓    \n",
      "  ┃     9    \n",
      "  ┃   ┏━┻┓   \n",
      "  ┃   ┃  8   \n",
      "  ┃   ┃ ┏┻┓  \n",
      "  7   ┃ ┃ ┃  \n",
      "┏━┻┓  ┃ ┃ ┃  \n",
      "┃  6  ┃ ┃ ┃  \n",
      "┃ ┏┻┓ ┃ ┃ ┃  \n",
      "4 0 5 3 1 2  \n",
      "\n"
     ]
    }
   ],
   "source": [
    "tree_sequence = msprime.simulate(sample_size=6, Ne=1000, length=1e4, recombination_rate=2e-8)\n",
    "for tree in tree_sequence.trees():\n",
    "    print(\"-\" * 20)\n",
    "    print(\"tree {}: interval = {}\".format(tree.index, tree.interval))\n",
    "    print(tree.draw(format=\"unicode\"))"
   ]
  },
  {
   "cell_type": "markdown",
   "metadata": {},
   "source": [
    "### Mutations "
   ]
  },
  {
   "cell_type": "code",
   "execution_count": 11,
   "metadata": {},
   "outputs": [
    {
     "name": "stdout",
     "output_type": "stream",
     "text": [
      "Mutation @ position 1556.54 over node 9\n",
      "Mutation @ position 4485.17 over node 6\n",
      "Mutation @ position 9788.56 over node 6\n",
      "Mutation @ position 11759.03 over node 6\n",
      "Mutation @ position 11949.32 over node 6\n",
      "Mutation @ position 14321.77 over node 9\n",
      "Mutation @ position 31454.99 over node 6\n",
      "Mutation @ position 45125.69 over node 9\n",
      "Mutation @ position 49709.68 over node 6\n",
      "    10       \n",
      " ┏━━┻━━┓     \n",
      " ┃     9     \n",
      " ┃   ┏━┻━┓   \n",
      " ┃   ┃   8   \n",
      " ┃   ┃  ┏┻┓  \n",
      " ┃   7  ┃ ┃  \n",
      " ┃  ┏┻┓ ┃ ┃  \n",
      " 6  ┃ ┃ ┃ ┃  \n",
      "┏┻┓ ┃ ┃ ┃ ┃  \n",
      "0 4 2 5 1 3  \n",
      "\n"
     ]
    }
   ],
   "source": [
    "tree_sequence = msprime.simulate(\n",
    "    sample_size=6, Ne=1000, length=50e3, mutation_rate=1e-8, random_seed=30)\n",
    "tree = tree_sequence.first()\n",
    "for site in tree.sites():\n",
    "     for mutation in site.mutations:\n",
    "        print(\"Mutation @ position {:.2f} over node {}\".format(\n",
    "            site.position, mutation.node))\n",
    "        \n",
    "print(tree.draw(format=\"unicode\"))"
   ]
  },
  {
   "cell_type": "markdown",
   "metadata": {},
   "source": [
    "### Variants "
   ]
  },
  {
   "cell_type": "code",
   "execution_count": 12,
   "metadata": {},
   "outputs": [
    {
     "name": "stdout",
     "output_type": "stream",
     "text": [
      "0\t2432.768327416852\t('0', '1')\t[0 0 0 0 0 0 0 0 1 0 0 0 0 0 0 0 0 0 0 0]\n",
      "1\t2577.6939414924095\t('0', '1')\t[1 0 1 1 1 1 0 1 1 1 1 1 1 1 1 1 1 1 1 1]\n",
      "2\t2844.682702049562\t('0', '1')\t[0 0 0 1 1 0 0 0 0 0 0 0 0 0 0 0 0 1 0 0]\n",
      "3\t4784.266628557816\t('0', '1')\t[0 0 0 0 0 0 0 0 1 0 0 0 0 0 0 0 0 0 0 0]\n"
     ]
    }
   ],
   "source": [
    "tree_sequence = msprime.simulate(\n",
    "     sample_size=20, Ne=1e4, length=5e3, recombination_rate=2e-8,\n",
    "     mutation_rate=2e-8, random_seed=10)\n",
    "for variant in tree_sequence.variants():\n",
    "     print(\n",
    "         variant.site.id, variant.site.position,\n",
    "         variant.alleles, variant.genotypes, sep=\"\\t\")"
   ]
  },
  {
   "cell_type": "code",
   "execution_count": 18,
   "metadata": {},
   "outputs": [
    {
     "data": {
      "text/plain": [
       "array([[0, 0, 0, 0, 0, 0, 0, 0, 1, 0, 0, 0, 0, 0, 0, 0, 0, 0, 0, 0],\n",
       "       [1, 0, 1, 1, 1, 1, 0, 1, 1, 1, 1, 1, 1, 1, 1, 1, 1, 1, 1, 1],\n",
       "       [0, 0, 0, 1, 1, 0, 0, 0, 0, 0, 0, 0, 0, 0, 0, 0, 0, 1, 0, 0],\n",
       "       [0, 0, 0, 0, 0, 0, 0, 0, 1, 0, 0, 0, 0, 0, 0, 0, 0, 0, 0, 0]],\n",
       "      dtype=uint8)"
      ]
     },
     "execution_count": 18,
     "metadata": {},
     "output_type": "execute_result"
    }
   ],
   "source": [
    "A = tree_sequence.genotype_matrix()\n",
    "A"
   ]
  },
  {
   "cell_type": "markdown",
   "metadata": {},
   "source": [
    "### Replication "
   ]
  },
  {
   "cell_type": "code",
   "execution_count": 20,
   "metadata": {},
   "outputs": [],
   "source": [
    "import numpy as np\n",
    "\n",
    "def segregating_sites_example(n, theta, num_replicates):\n",
    "    S = np.zeros(num_replicates)\n",
    "    replicates = msprime.simulate(\n",
    "        Ne=0.5,\n",
    "        sample_size=n,\n",
    "        mutation_rate=theta / 2,\n",
    "        num_replicates=num_replicates)\n",
    "    for j, tree_sequence in enumerate(replicates):\n",
    "        S[j] = tree_sequence.num_sites\n",
    "    # Now, calculate the analytical predictions\n",
    "    S_mean_a = np.sum(1 / np.arange(1, n)) * theta\n",
    "    S_var_a = (\n",
    "        theta * np.sum(1 / np.arange(1, n)) +\n",
    "        theta**2 * np.sum(1 / np.arange(1, n)**2))\n",
    "    print(\"              mean              variance\")\n",
    "    print(\"Observed      {}\\t\\t{}\".format(np.mean(S), np.var(S)))\n",
    "    print(\"Analytical    {:.5f}\\t\\t{:.5f}\".format(S_mean_a, S_var_a))"
   ]
  },
  {
   "cell_type": "code",
   "execution_count": 21,
   "metadata": {},
   "outputs": [
    {
     "name": "stdout",
     "output_type": "stream",
     "text": [
      "              mean              variance\n",
      "Observed      14.16396\t\t52.69005711839999\n",
      "Analytical    14.14484\t\t52.63903\n"
     ]
    }
   ],
   "source": [
    "segregating_sites_example(10, 5, 100000)"
   ]
  },
  {
   "cell_type": "markdown",
   "metadata": {},
   "source": [
    "### Playing around "
   ]
  },
  {
   "cell_type": "code",
   "execution_count": 29,
   "metadata": {},
   "outputs": [
    {
     "name": "stdout",
     "output_type": "stream",
     "text": [
      "      18             \n",
      " ┏━━━━┻━━━┓          \n",
      " ┃        17         \n",
      " ┃   ┏━━━━┻━━━┓      \n",
      " 16  ┃        ┃      \n",
      "┏┻┓  ┃        ┃      \n",
      "┃ ┃  ┃        15     \n",
      "┃ ┃  ┃     ┏━━┻━━┓   \n",
      "┃ ┃  ┃     ┃     14  \n",
      "┃ ┃  ┃     ┃    ┏┻┓  \n",
      "┃ ┃  ┃     13   ┃ ┃  \n",
      "┃ ┃  ┃   ┏━┻━┓  ┃ ┃  \n",
      "┃ ┃  12  ┃   ┃  ┃ ┃  \n",
      "┃ ┃ ┏┻┓  ┃   ┃  ┃ ┃  \n",
      "┃ ┃ ┃ ┃  ┃   11 ┃ ┃  \n",
      "┃ ┃ ┃ ┃  ┃  ┏┻┓ ┃ ┃  \n",
      "┃ ┃ ┃ ┃  10 ┃ ┃ ┃ ┃  \n",
      "┃ ┃ ┃ ┃ ┏┻┓ ┃ ┃ ┃ ┃  \n",
      "0 8 1 6 7 9 3 5 2 4  \n",
      "\n",
      "Mutation @ position 527.01 over node 16\n",
      "Mutation @ position 2919.51 over node 8\n",
      "Mutation @ position 3637.18 over node 10\n",
      "527.0091455895454 [1 0 0 0 0 0 0 0 1 0]\n",
      "2919.5068357512355 [0 0 0 0 0 0 0 0 1 0]\n",
      "3637.1775541920215 [0 0 0 0 0 0 0 1 0 1]\n"
     ]
    }
   ],
   "source": [
    "# Simulate tree sequence \n",
    "tree_sequence = msprime.simulate(\n",
    "     sample_size=10, Ne=1e4, length=5e3, recombination_rate=0,\n",
    "     mutation_rate=2e-8, random_seed=10)\n",
    "\n",
    "tree = tree_sequence.first()\n",
    "print(tree.draw(format=\"unicode\"))\n",
    "\n",
    "for site in tree.sites():\n",
    "     for mutation in site.mutations:\n",
    "        print(\"Mutation @ position {:.2f} over node {}\".format(\n",
    "            site.position, mutation.node))\n",
    "\n",
    "for variant in tree_sequence.variants():\n",
    "    print(variant.site.position, variant.genotypes)"
   ]
  },
  {
   "cell_type": "code",
   "execution_count": 13,
   "metadata": {},
   "outputs": [],
   "source": [
    "%qtconsole"
   ]
  }
 ],
 "metadata": {
  "kernelspec": {
   "display_name": "Python 3",
   "language": "python",
   "name": "python3"
  },
  "language_info": {
   "codemirror_mode": {
    "name": "ipython",
    "version": 3
   },
   "file_extension": ".py",
   "mimetype": "text/x-python",
   "name": "python",
   "nbconvert_exporter": "python",
   "pygments_lexer": "ipython3",
   "version": "3.7.3"
  }
 },
 "nbformat": 4,
 "nbformat_minor": 2
}
